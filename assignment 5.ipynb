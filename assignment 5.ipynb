{
 "cells": [
  {
   "cell_type": "markdown",
   "id": "f9ba8ca5-e8a8-41f9-bc9b-a77820aa694e",
   "metadata": {},
   "source": [
    "Q1-Explain class and object with respect to object-oriented programming.give a suitable example."
   ]
  },
  {
   "cell_type": "markdown",
   "id": "bf50797a-06e1-4700-bb10-4e9af2c88718",
   "metadata": {},
   "source": [
    "ANS-A Class is a user defined blueprint or prototype from which object are created.\n",
    "class creates a user defined data structure which holds its own data members and member functions ,which \n",
    "can be accessed and used by creating an instance of that class .a class is like a blueprint for an object.\n",
    "\n",
    "OBJECT-An object is an instance of a class .a class is a like a blueprint while an instance is a copy of the class with \n",
    "actual values.when an object of a class is created the class is said to be instantiated.\n",
    "all the instances share the attributes and the behavior of the class. A single class may have any number of instances."
   ]
  },
  {
   "cell_type": "code",
   "execution_count": 1,
   "id": "f6fcdf29-3e8f-43d0-96e7-c4158cb3966c",
   "metadata": {},
   "outputs": [],
   "source": [
    "class family_members :\n",
    "    def old_members(self) :\n",
    "        print('there r 4 old members in my family')\n",
    "    def young_members(self) :\n",
    "        print('there are 8 young members in my family')"
   ]
  },
  {
   "cell_type": "code",
   "execution_count": 2,
   "id": "e9ea3742-60c0-4535-a0b2-efdf401a7640",
   "metadata": {},
   "outputs": [],
   "source": [
    "fm=family_members()"
   ]
  },
  {
   "cell_type": "code",
   "execution_count": 3,
   "id": "abb3aff0-d862-4a7b-944f-727ad3cd55ce",
   "metadata": {},
   "outputs": [
    {
     "name": "stdout",
     "output_type": "stream",
     "text": [
      "there r 4 old members in my family\n"
     ]
    }
   ],
   "source": [
    "fm.old_members()"
   ]
  },
  {
   "cell_type": "code",
   "execution_count": 4,
   "id": "77274558-48fb-4902-9521-1070cd9208bf",
   "metadata": {},
   "outputs": [
    {
     "name": "stdout",
     "output_type": "stream",
     "text": [
      "there are 8 young members in my family\n"
     ]
    }
   ],
   "source": [
    "fm.young_members()"
   ]
  },
  {
   "cell_type": "markdown",
   "id": "52b88966-bf4b-49ae-adf7-5923cc229817",
   "metadata": {},
   "source": [
    "Q 2-Name the four pillars of oops."
   ]
  },
  {
   "cell_type": "markdown",
   "id": "6c9ac25f-8d2b-476e-8821-3683c017a89d",
   "metadata": {},
   "source": [
    "ANS-These principles are called the four pillars of object-oriented programming (oops)\n",
    "\n",
    "\n",
    "1.Inheritance\n",
    "2.Polymorphism\n",
    "3.Encapsulation\n",
    "4.Abstraction"
   ]
  },
  {
   "cell_type": "markdown",
   "id": "56fde81f-2134-4127-8f17-a602c7d27059",
   "metadata": {},
   "source": [
    "Q 3-Explain why the __init__() function is used.Give a suitable example."
   ]
  },
  {
   "cell_type": "markdown",
   "id": "55c76ff8-d280-4d8d-8274-e9b9ec286e91",
   "metadata": {},
   "source": [
    "ANS-The __init__() function is called every time an object is created from a class .\n",
    "the __init__() method lets the class initialize the object's attributes and serves no other purpose .\n",
    "it is only used within classes\n",
    "all classes have a function called __init__() which is always excuted when the class is being initiated.\n",
    "use the __init__() function to assign values to object properties or other operations that are necessary\n",
    "to do when the object is being created. "
   ]
  },
  {
   "cell_type": "code",
   "execution_count": 6,
   "id": "185bec7e-bede-4bd7-827d-f42693f59f05",
   "metadata": {},
   "outputs": [],
   "source": [
    "class person :\n",
    "    def __init__(self,name,age) :\n",
    "        self.name =name\n",
    "        self.age =age\n",
    "    def details(self) :\n",
    "        print(self.name,self.age)"
   ]
  },
  {
   "cell_type": "code",
   "execution_count": 8,
   "id": "365384da-7e6e-4615-ae66-fb7c96b84743",
   "metadata": {},
   "outputs": [],
   "source": [
    "p=person('moni',28)"
   ]
  },
  {
   "cell_type": "code",
   "execution_count": 9,
   "id": "8f5ece1f-bae1-4bc8-b517-89c90b4481b0",
   "metadata": {},
   "outputs": [
    {
     "name": "stdout",
     "output_type": "stream",
     "text": [
      "moni 28\n"
     ]
    }
   ],
   "source": [
    "p.details()"
   ]
  },
  {
   "cell_type": "markdown",
   "id": "759c73df-3a48-41b4-8206-2a03f0d2ccd5",
   "metadata": {},
   "source": [
    " Q 4-Why self is used in oops ?"
   ]
  },
  {
   "cell_type": "markdown",
   "id": "2d23b2c7-f4cb-4db5-8622-da0370fac243",
   "metadata": {},
   "source": [
    "ANS-The self is used to represnt the instance of the class with this keyword,we can access the attributes and methods \n",
    "of the class in python .It binds the attributes with the given arguments. the reason why we use self is that python does not \n",
    "use the '@' syntax to refer to instance attributes."
   ]
  },
  {
   "cell_type": "markdown",
   "id": "92debeb5-8c67-4385-a129-c65507fee0bc",
   "metadata": {},
   "source": [
    "Q 5-What is inheritance ?give an example for each type of inheritance."
   ]
  },
  {
   "cell_type": "markdown",
   "id": "fdcf9ebd-eced-405a-a536-5ac89d5a7636",
   "metadata": {},
   "source": [
    "ANS-Inheritance-inheritance is a mechanism that allows you to create a hierarchy of classes that share a set of properties \n",
    "and methods by deriving a class from another class . inheritance is the capability of one class to derive or inherit the \n",
    "properties from another class.\n",
    "it provides the reusability of a code.\n",
    "it is transitive in nature,which means that if class B inherit from class A,then all the subclasses of B would automatically \n",
    "inherit from class A."
   ]
  },
  {
   "cell_type": "code",
   "execution_count": 1,
   "id": "c3df556e-8fed-4532-959a-609cc3bc7026",
   "metadata": {},
   "outputs": [],
   "source": [
    "class parent :\n",
    "    def test1(self) :\n",
    "        print(\"this is my parent class\")"
   ]
  },
  {
   "cell_type": "code",
   "execution_count": 5,
   "id": "b5a1dd08-0fd9-4753-8b9f-13cb00b35b73",
   "metadata": {},
   "outputs": [],
   "source": [
    "class child(parent) :\n",
    "    pass"
   ]
  },
  {
   "cell_type": "code",
   "execution_count": 6,
   "id": "e2d09a4f-aa72-47d1-a661-82feb466a088",
   "metadata": {},
   "outputs": [],
   "source": [
    "child_obj =child()"
   ]
  },
  {
   "cell_type": "code",
   "execution_count": 7,
   "id": "f2d69b34-c546-4ced-b8f8-79db77f3459a",
   "metadata": {},
   "outputs": [
    {
     "name": "stdout",
     "output_type": "stream",
     "text": [
      "this is my parent class\n"
     ]
    }
   ],
   "source": [
    "child_obj.test1()"
   ]
  },
  {
   "cell_type": "markdown",
   "id": "c7213955-0242-4a94-9fa9-f91cf2c398af",
   "metadata": {},
   "source": [
    "EXAMPLE --2"
   ]
  },
  {
   "cell_type": "code",
   "execution_count": 11,
   "id": "53cec824-3996-4f65-a06e-2099f3ffeb4d",
   "metadata": {},
   "outputs": [],
   "source": [
    "class pwskills () :\n",
    "    def members(self) :\n",
    "        print(\"there are all the members of pw family\")"
   ]
  },
  {
   "cell_type": "code",
   "execution_count": 12,
   "id": "9beaeb50-4616-4767-bf41-6c5cf6d75fd4",
   "metadata": {},
   "outputs": [],
   "source": [
    "class data_science (pwskills) :\n",
    "    def members1(self) :\n",
    "        print(\"there are only members related to data science\")"
   ]
  },
  {
   "cell_type": "code",
   "execution_count": 13,
   "id": "d4a5fa99-1c8d-46cf-b94a-c60544425c33",
   "metadata": {},
   "outputs": [],
   "source": [
    "class web_dev(data_science) :\n",
    "    def members2(self) :\n",
    "        print(\"there are only members related to web_dev\")"
   ]
  },
  {
   "cell_type": "code",
   "execution_count": 14,
   "id": "7cc44f2f-9fb7-431e-830f-6613cb146d66",
   "metadata": {},
   "outputs": [],
   "source": [
    "pw=web_dev()"
   ]
  },
  {
   "cell_type": "code",
   "execution_count": 16,
   "id": "c08a0aee-d8ad-4b6d-a994-6a7377796e3b",
   "metadata": {},
   "outputs": [
    {
     "name": "stdout",
     "output_type": "stream",
     "text": [
      "there are only members related to data science\n"
     ]
    }
   ],
   "source": [
    "pw.members1()"
   ]
  },
  {
   "cell_type": "code",
   "execution_count": 17,
   "id": "7d419c7c-8a21-4445-af31-0459b8dacf24",
   "metadata": {},
   "outputs": [
    {
     "name": "stdout",
     "output_type": "stream",
     "text": [
      "there are all the members of pw family\n"
     ]
    }
   ],
   "source": [
    "pw.members()"
   ]
  },
  {
   "cell_type": "code",
   "execution_count": 18,
   "id": "a83fff11-3c77-4917-a94c-beda9615ffbf",
   "metadata": {},
   "outputs": [
    {
     "name": "stdout",
     "output_type": "stream",
     "text": [
      "there are only members related to web_dev\n"
     ]
    }
   ],
   "source": [
    "pw.members2()"
   ]
  },
  {
   "cell_type": "markdown",
   "id": "b90f09e5-c0ea-4f1a-8553-1e3257ef7330",
   "metadata": {},
   "source": [
    "EXAMPLE --3"
   ]
  },
  {
   "cell_type": "code",
   "execution_count": 19,
   "id": "f95c20e9-f287-495c-8de8-628fd792af06",
   "metadata": {},
   "outputs": [],
   "source": [
    "class class1 :\n",
    "    def test1(self) :\n",
    "        print('this is my first class')"
   ]
  },
  {
   "cell_type": "code",
   "execution_count": 22,
   "id": "1a16489b-7780-4a3e-801c-96e9ffb2393f",
   "metadata": {},
   "outputs": [],
   "source": [
    "class class2 :\n",
    "    def test2(self) :\n",
    "        print('this is my second class')"
   ]
  },
  {
   "cell_type": "code",
   "execution_count": 23,
   "id": "e1272299-6b68-4ed4-a005-e13472db8784",
   "metadata": {},
   "outputs": [],
   "source": [
    "class class3(class1,class2) :\n",
    "    def test3(self) :\n",
    "        print('this is my last class')"
   ]
  },
  {
   "cell_type": "code",
   "execution_count": 24,
   "id": "9f44954b-8f6b-4992-922c-da01ad04fed5",
   "metadata": {},
   "outputs": [],
   "source": [
    "test_obj =class3()"
   ]
  },
  {
   "cell_type": "code",
   "execution_count": 25,
   "id": "1886cc0a-9692-4558-9611-1541964f4a2f",
   "metadata": {},
   "outputs": [
    {
     "name": "stdout",
     "output_type": "stream",
     "text": [
      "this is my second class\n"
     ]
    }
   ],
   "source": [
    "test_obj.test2()"
   ]
  },
  {
   "cell_type": "code",
   "execution_count": 26,
   "id": "07ad7a1d-64cd-4437-b024-42863e559630",
   "metadata": {},
   "outputs": [
    {
     "name": "stdout",
     "output_type": "stream",
     "text": [
      "this is my first class\n"
     ]
    }
   ],
   "source": [
    "test_obj.test1()"
   ]
  },
  {
   "cell_type": "code",
   "execution_count": 27,
   "id": "dddb7e2e-2d54-4092-bd03-2eaa77622767",
   "metadata": {},
   "outputs": [
    {
     "name": "stdout",
     "output_type": "stream",
     "text": [
      "this is my last class\n"
     ]
    }
   ],
   "source": [
    "test_obj.test3()"
   ]
  },
  {
   "cell_type": "markdown",
   "id": "501a357f-8907-41dc-b551-bc2ab9dcd53c",
   "metadata": {},
   "source": [
    "                         ***END***"
   ]
  },
  {
   "cell_type": "code",
   "execution_count": null,
   "id": "8ab8522f-2c5a-4e63-b335-faddf4be7912",
   "metadata": {},
   "outputs": [],
   "source": []
  }
 ],
 "metadata": {
  "kernelspec": {
   "display_name": "Python 3 (ipykernel)",
   "language": "python",
   "name": "python3"
  },
  "language_info": {
   "codemirror_mode": {
    "name": "ipython",
    "version": 3
   },
   "file_extension": ".py",
   "mimetype": "text/x-python",
   "name": "python",
   "nbconvert_exporter": "python",
   "pygments_lexer": "ipython3",
   "version": "3.10.8"
  }
 },
 "nbformat": 4,
 "nbformat_minor": 5
}
